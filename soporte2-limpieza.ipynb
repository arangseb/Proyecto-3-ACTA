{
 "cells": [
  {
   "cell_type": "code",
   "execution_count": 1,
   "metadata": {},
   "outputs": [],
   "source": [
    "import pandas as pd"
   ]
  },
  {
   "cell_type": "code",
   "execution_count": 2,
   "metadata": {},
   "outputs": [
    {
     "data": {
      "text/html": [
       "<div>\n",
       "<style scoped>\n",
       "    .dataframe tbody tr th:only-of-type {\n",
       "        vertical-align: middle;\n",
       "    }\n",
       "\n",
       "    .dataframe tbody tr th {\n",
       "        vertical-align: top;\n",
       "    }\n",
       "\n",
       "    .dataframe thead th {\n",
       "        text-align: right;\n",
       "    }\n",
       "</style>\n",
       "<table border=\"1\" class=\"dataframe\">\n",
       "  <thead>\n",
       "    <tr style=\"text-align: right;\">\n",
       "      <th></th>\n",
       "      <th>COLE_AREA_UBICACION</th>\n",
       "      <th>COLE_BILINGUE</th>\n",
       "      <th>COLE_CALENDARIO</th>\n",
       "      <th>COLE_CARACTER</th>\n",
       "      <th>COLE_GENERO</th>\n",
       "      <th>COLE_JORNADA</th>\n",
       "      <th>COLE_MCPIO_UBICACION</th>\n",
       "      <th>COLE_NATURALEZA</th>\n",
       "      <th>COLE_NOMBRE_ESTABLECIMIENTO</th>\n",
       "      <th>COLE_NOMBRE_SEDE</th>\n",
       "      <th>...</th>\n",
       "      <th>FAMI_TIENEAUTOMOVIL</th>\n",
       "      <th>FAMI_TIENECOMPUTADOR</th>\n",
       "      <th>FAMI_TIENEINTERNET</th>\n",
       "      <th>FAMI_TIENELAVADORA</th>\n",
       "      <th>PUNT_INGLES</th>\n",
       "      <th>PUNT_MATEMATICAS</th>\n",
       "      <th>PUNT_SOCIALES_CIUDADANAS</th>\n",
       "      <th>PUNT_C_NATURALES</th>\n",
       "      <th>PUNT_LECTURA_CRITICA</th>\n",
       "      <th>PUNT_GLOBAL</th>\n",
       "    </tr>\n",
       "  </thead>\n",
       "  <tbody>\n",
       "    <tr>\n",
       "      <th>0</th>\n",
       "      <td>URBANO</td>\n",
       "      <td>N</td>\n",
       "      <td>A</td>\n",
       "      <td>ACADÉMICO</td>\n",
       "      <td>MIXTO</td>\n",
       "      <td>MAÑANA</td>\n",
       "      <td>MEDELLIN</td>\n",
       "      <td>OFICIAL</td>\n",
       "      <td>INST EDUC MONSEÑOR GERARDO VALENCIA CANO</td>\n",
       "      <td>INST EDUC MONSEÑOR GERARDO VALENCIA CANO</td>\n",
       "      <td>...</td>\n",
       "      <td>Si</td>\n",
       "      <td>Si</td>\n",
       "      <td>Si</td>\n",
       "      <td>Si</td>\n",
       "      <td>61.0</td>\n",
       "      <td>60.00</td>\n",
       "      <td>60.0</td>\n",
       "      <td>63.0</td>\n",
       "      <td>64.0</td>\n",
       "      <td>308.0</td>\n",
       "    </tr>\n",
       "    <tr>\n",
       "      <th>1</th>\n",
       "      <td>RURAL</td>\n",
       "      <td>N</td>\n",
       "      <td>A</td>\n",
       "      <td>TÉCNICO/ACADÉMICO</td>\n",
       "      <td>MIXTO</td>\n",
       "      <td>COMPLETA</td>\n",
       "      <td>SONSON</td>\n",
       "      <td>OFICIAL</td>\n",
       "      <td>I. E. R. SAN MIGUEL</td>\n",
       "      <td>I. E. R. SAN MIGUEL</td>\n",
       "      <td>...</td>\n",
       "      <td>No</td>\n",
       "      <td>Si</td>\n",
       "      <td>No</td>\n",
       "      <td>Si</td>\n",
       "      <td>42.0</td>\n",
       "      <td>45.00</td>\n",
       "      <td>39.0</td>\n",
       "      <td>39.0</td>\n",
       "      <td>48.0</td>\n",
       "      <td>213.0</td>\n",
       "    </tr>\n",
       "    <tr>\n",
       "      <th>2</th>\n",
       "      <td>URBANO</td>\n",
       "      <td>N</td>\n",
       "      <td>A</td>\n",
       "      <td>ACADÉMICO</td>\n",
       "      <td>MIXTO</td>\n",
       "      <td>COMPLETA</td>\n",
       "      <td>ENTRERRIOS</td>\n",
       "      <td>OFICIAL</td>\n",
       "      <td>I. E. ENTRERRIOS</td>\n",
       "      <td>LICEO SAN LUIS BELTRAN</td>\n",
       "      <td>...</td>\n",
       "      <td>No</td>\n",
       "      <td>Si</td>\n",
       "      <td>Si</td>\n",
       "      <td>Si</td>\n",
       "      <td>40.0</td>\n",
       "      <td>35.00</td>\n",
       "      <td>40.0</td>\n",
       "      <td>41.0</td>\n",
       "      <td>49.0</td>\n",
       "      <td>206.0</td>\n",
       "    </tr>\n",
       "    <tr>\n",
       "      <th>3</th>\n",
       "      <td>RURAL</td>\n",
       "      <td>N</td>\n",
       "      <td>A</td>\n",
       "      <td>ACADÉMICO</td>\n",
       "      <td>MIXTO</td>\n",
       "      <td>SABATINA</td>\n",
       "      <td>GÓMEZ PLATA</td>\n",
       "      <td>OFICIAL</td>\n",
       "      <td>INSTITUCION EDUCATIVA RURAL EL SALTO</td>\n",
       "      <td>LICEO EL SALTO</td>\n",
       "      <td>...</td>\n",
       "      <td>No</td>\n",
       "      <td>No</td>\n",
       "      <td>No</td>\n",
       "      <td>No</td>\n",
       "      <td>50.1</td>\n",
       "      <td>60.51</td>\n",
       "      <td>NaN</td>\n",
       "      <td>NaN</td>\n",
       "      <td>NaN</td>\n",
       "      <td>NaN</td>\n",
       "    </tr>\n",
       "    <tr>\n",
       "      <th>4</th>\n",
       "      <td>URBANO</td>\n",
       "      <td>NaN</td>\n",
       "      <td>A</td>\n",
       "      <td>TÉCNICO</td>\n",
       "      <td>MIXTO</td>\n",
       "      <td>COMPLETA</td>\n",
       "      <td>LA CEJA</td>\n",
       "      <td>NO OFICIAL</td>\n",
       "      <td>INSTITUTO ACISCOM</td>\n",
       "      <td>INSTITUTO ACISCOM - SEDE PRINCIPAL</td>\n",
       "      <td>...</td>\n",
       "      <td>No</td>\n",
       "      <td>Si</td>\n",
       "      <td>Si</td>\n",
       "      <td>Si</td>\n",
       "      <td>52.0</td>\n",
       "      <td>75.00</td>\n",
       "      <td>NaN</td>\n",
       "      <td>NaN</td>\n",
       "      <td>NaN</td>\n",
       "      <td>NaN</td>\n",
       "    </tr>\n",
       "  </tbody>\n",
       "</table>\n",
       "<p>5 rows × 36 columns</p>\n",
       "</div>"
      ],
      "text/plain": [
       "  COLE_AREA_UBICACION COLE_BILINGUE COLE_CALENDARIO      COLE_CARACTER  \\\n",
       "0              URBANO             N               A          ACADÉMICO   \n",
       "1               RURAL             N               A  TÉCNICO/ACADÉMICO   \n",
       "2              URBANO             N               A          ACADÉMICO   \n",
       "3               RURAL             N               A          ACADÉMICO   \n",
       "4              URBANO           NaN               A            TÉCNICO   \n",
       "\n",
       "  COLE_GENERO COLE_JORNADA COLE_MCPIO_UBICACION COLE_NATURALEZA  \\\n",
       "0       MIXTO       MAÑANA             MEDELLIN         OFICIAL   \n",
       "1       MIXTO     COMPLETA               SONSON         OFICIAL   \n",
       "2       MIXTO     COMPLETA           ENTRERRIOS         OFICIAL   \n",
       "3       MIXTO     SABATINA          GÓMEZ PLATA         OFICIAL   \n",
       "4       MIXTO     COMPLETA              LA CEJA      NO OFICIAL   \n",
       "\n",
       "                COLE_NOMBRE_ESTABLECIMIENTO  \\\n",
       "0  INST EDUC MONSEÑOR GERARDO VALENCIA CANO   \n",
       "1                       I. E. R. SAN MIGUEL   \n",
       "2                          I. E. ENTRERRIOS   \n",
       "3      INSTITUCION EDUCATIVA RURAL EL SALTO   \n",
       "4                         INSTITUTO ACISCOM   \n",
       "\n",
       "                           COLE_NOMBRE_SEDE  ... FAMI_TIENEAUTOMOVIL  \\\n",
       "0  INST EDUC MONSEÑOR GERARDO VALENCIA CANO  ...                  Si   \n",
       "1                       I. E. R. SAN MIGUEL  ...                  No   \n",
       "2                    LICEO SAN LUIS BELTRAN  ...                  No   \n",
       "3                            LICEO EL SALTO  ...                  No   \n",
       "4        INSTITUTO ACISCOM - SEDE PRINCIPAL  ...                  No   \n",
       "\n",
       "  FAMI_TIENECOMPUTADOR FAMI_TIENEINTERNET FAMI_TIENELAVADORA PUNT_INGLES  \\\n",
       "0                   Si                 Si                 Si        61.0   \n",
       "1                   Si                 No                 Si        42.0   \n",
       "2                   Si                 Si                 Si        40.0   \n",
       "3                   No                 No                 No        50.1   \n",
       "4                   Si                 Si                 Si        52.0   \n",
       "\n",
       "  PUNT_MATEMATICAS PUNT_SOCIALES_CIUDADANAS PUNT_C_NATURALES  \\\n",
       "0            60.00                     60.0             63.0   \n",
       "1            45.00                     39.0             39.0   \n",
       "2            35.00                     40.0             41.0   \n",
       "3            60.51                      NaN              NaN   \n",
       "4            75.00                      NaN              NaN   \n",
       "\n",
       "  PUNT_LECTURA_CRITICA PUNT_GLOBAL  \n",
       "0                 64.0       308.0  \n",
       "1                 48.0       213.0  \n",
       "2                 49.0       206.0  \n",
       "3                  NaN         NaN  \n",
       "4                  NaN         NaN  \n",
       "\n",
       "[5 rows x 36 columns]"
      ]
     },
     "execution_count": 2,
     "metadata": {},
     "output_type": "execute_result"
    }
   ],
   "source": [
    "datos = pd.read_csv('datos_filtrados.csv')\n",
    "datos.head()"
   ]
  },
  {
   "cell_type": "code",
   "execution_count": 3,
   "metadata": {},
   "outputs": [
    {
     "data": {
      "text/plain": [
       "(1009317, 36)"
      ]
     },
     "execution_count": 3,
     "metadata": {},
     "output_type": "execute_result"
    }
   ],
   "source": [
    "datos.shape"
   ]
  },
  {
   "cell_type": "code",
   "execution_count": 4,
   "metadata": {},
   "outputs": [
    {
     "data": {
      "text/plain": [
       "COLE_AREA_UBICACION             object\n",
       "COLE_BILINGUE                   object\n",
       "COLE_CALENDARIO                 object\n",
       "COLE_CARACTER                   object\n",
       "COLE_GENERO                     object\n",
       "COLE_JORNADA                    object\n",
       "COLE_MCPIO_UBICACION            object\n",
       "COLE_NATURALEZA                 object\n",
       "COLE_NOMBRE_ESTABLECIMIENTO     object\n",
       "COLE_NOMBRE_SEDE                object\n",
       "COLE_SEDE_PRINCIPAL             object\n",
       "ESTU_DEPTO_PRESENTACION         object\n",
       "ESTU_DEPTO_RESIDE               object\n",
       "ESTU_ESTADOINVESTIGACION        object\n",
       "ESTU_FECHANACIMIENTO            object\n",
       "ESTU_GENERO                     object\n",
       "ESTU_MCPIO_PRESENTACION         object\n",
       "ESTU_MCPIO_RESIDE               object\n",
       "ESTU_NACIONALIDAD               object\n",
       "ESTU_PAIS_RESIDE                object\n",
       "ESTU_PRIVADO_LIBERTAD           object\n",
       "FAMI_CUARTOSHOGAR               object\n",
       "FAMI_EDUCACIONMADRE             object\n",
       "FAMI_EDUCACIONPADRE             object\n",
       "FAMI_ESTRATOVIVIENDA            object\n",
       "FAMI_PERSONASHOGAR              object\n",
       "FAMI_TIENEAUTOMOVIL             object\n",
       "FAMI_TIENECOMPUTADOR            object\n",
       "FAMI_TIENEINTERNET              object\n",
       "FAMI_TIENELAVADORA              object\n",
       "PUNT_INGLES                    float64\n",
       "PUNT_MATEMATICAS               float64\n",
       "PUNT_SOCIALES_CIUDADANAS       float64\n",
       "PUNT_C_NATURALES               float64\n",
       "PUNT_LECTURA_CRITICA           float64\n",
       "PUNT_GLOBAL                    float64\n",
       "dtype: object"
      ]
     },
     "execution_count": 4,
     "metadata": {},
     "output_type": "execute_result"
    }
   ],
   "source": [
    "datos.dtypes"
   ]
  },
  {
   "cell_type": "code",
   "execution_count": 5,
   "metadata": {},
   "outputs": [
    {
     "data": {
      "text/plain": [
       "COLE_AREA_UBICACION                 0\n",
       "COLE_BILINGUE                  119388\n",
       "COLE_CALENDARIO                   229\n",
       "COLE_CARACTER                   12689\n",
       "COLE_GENERO                         0\n",
       "COLE_JORNADA                        0\n",
       "COLE_MCPIO_UBICACION                0\n",
       "COLE_NATURALEZA                     0\n",
       "COLE_NOMBRE_ESTABLECIMIENTO         0\n",
       "COLE_NOMBRE_SEDE                    0\n",
       "COLE_SEDE_PRINCIPAL                 0\n",
       "ESTU_DEPTO_PRESENTACION             8\n",
       "ESTU_DEPTO_RESIDE                5140\n",
       "ESTU_ESTADOINVESTIGACION            5\n",
       "ESTU_FECHANACIMIENTO                0\n",
       "ESTU_GENERO                       378\n",
       "ESTU_MCPIO_PRESENTACION             3\n",
       "ESTU_MCPIO_RESIDE                5140\n",
       "ESTU_NACIONALIDAD                   5\n",
       "ESTU_PAIS_RESIDE                    0\n",
       "ESTU_PRIVADO_LIBERTAD               0\n",
       "FAMI_CUARTOSHOGAR               17583\n",
       "FAMI_EDUCACIONMADRE             25042\n",
       "FAMI_EDUCACIONPADRE             25560\n",
       "FAMI_ESTRATOVIVIENDA            28422\n",
       "FAMI_PERSONASHOGAR              17200\n",
       "FAMI_TIENEAUTOMOVIL             18749\n",
       "FAMI_TIENECOMPUTADOR            18237\n",
       "FAMI_TIENEINTERNET              24654\n",
       "FAMI_TIENELAVADORA              17365\n",
       "PUNT_INGLES                       170\n",
       "PUNT_MATEMATICAS                    2\n",
       "PUNT_SOCIALES_CIUDADANAS       414242\n",
       "PUNT_C_NATURALES               414304\n",
       "PUNT_LECTURA_CRITICA           414304\n",
       "PUNT_GLOBAL                    414304\n",
       "dtype: int64"
      ]
     },
     "execution_count": 5,
     "metadata": {},
     "output_type": "execute_result"
    }
   ],
   "source": [
    "# Número de valores vacios\n",
    "datos.isna().sum()"
   ]
  },
  {
   "cell_type": "code",
   "execution_count": 10,
   "metadata": {},
   "outputs": [],
   "source": [
    "# eliminar na de variables que tengan <=1% de na\n",
    "columnas_eliminar_na = ['COLE_CALENDARIO','COLE_CARACTER','ESTU_DEPTO_PRESENTACION','ESTU_DEPTO_RESIDE','ESTU_ESTADOINVESTIGACION','ESTU_GENERO','ESTU_MCPIO_PRESENTACION','ESTU_MCPIO_RESIDE','ESTU_NACIONALIDAD','PUNT_INGLES','PUNT_MATEMATICAS','PUNT_GLOBAL']\n"
   ]
  },
  {
   "cell_type": "code",
   "execution_count": 11,
   "metadata": {},
   "outputs": [],
   "source": [
    "datos.dropna(subset=columnas_eliminar_na, inplace=True)"
   ]
  },
  {
   "cell_type": "code",
   "execution_count": 12,
   "metadata": {},
   "outputs": [
    {
     "data": {
      "text/plain": [
       "(583602, 36)"
      ]
     },
     "execution_count": 12,
     "metadata": {},
     "output_type": "execute_result"
    }
   ],
   "source": [
    "datos.shape"
   ]
  },
  {
   "cell_type": "code",
   "execution_count": 13,
   "metadata": {},
   "outputs": [
    {
     "data": {
      "text/plain": [
       "COLE_AREA_UBICACION                0\n",
       "COLE_BILINGUE                  70088\n",
       "COLE_CALENDARIO                    0\n",
       "COLE_CARACTER                      0\n",
       "COLE_GENERO                        0\n",
       "COLE_JORNADA                       0\n",
       "COLE_MCPIO_UBICACION               0\n",
       "COLE_NATURALEZA                    0\n",
       "COLE_NOMBRE_ESTABLECIMIENTO        0\n",
       "COLE_NOMBRE_SEDE                   0\n",
       "COLE_SEDE_PRINCIPAL                0\n",
       "ESTU_DEPTO_PRESENTACION            0\n",
       "ESTU_DEPTO_RESIDE                  0\n",
       "ESTU_ESTADOINVESTIGACION           0\n",
       "ESTU_FECHANACIMIENTO               0\n",
       "ESTU_GENERO                        0\n",
       "ESTU_MCPIO_PRESENTACION            0\n",
       "ESTU_MCPIO_RESIDE                  0\n",
       "ESTU_NACIONALIDAD                  0\n",
       "ESTU_PAIS_RESIDE                   0\n",
       "ESTU_PRIVADO_LIBERTAD              0\n",
       "FAMI_CUARTOSHOGAR              14117\n",
       "FAMI_EDUCACIONMADRE            20675\n",
       "FAMI_EDUCACIONPADRE            21165\n",
       "FAMI_ESTRATOVIVIENDA           22690\n",
       "FAMI_PERSONASHOGAR             13835\n",
       "FAMI_TIENEAUTOMOVIL            15339\n",
       "FAMI_TIENECOMPUTADOR           14189\n",
       "FAMI_TIENEINTERNET             21057\n",
       "FAMI_TIENELAVADORA             14000\n",
       "PUNT_INGLES                        0\n",
       "PUNT_MATEMATICAS                   0\n",
       "PUNT_SOCIALES_CIUDADANAS           0\n",
       "PUNT_C_NATURALES                   0\n",
       "PUNT_LECTURA_CRITICA               0\n",
       "PUNT_GLOBAL                        0\n",
       "dtype: int64"
      ]
     },
     "execution_count": 13,
     "metadata": {},
     "output_type": "execute_result"
    }
   ],
   "source": [
    "# Número de valores vacios\n",
    "datos.isna().sum()"
   ]
  },
  {
   "cell_type": "code",
   "execution_count": 27,
   "metadata": {},
   "outputs": [],
   "source": [
    "columnas_a_imputar = ['COLE_BILINGUE','FAMI_CUARTOSHOGAR','FAMI_EDUCACIONMADRE','FAMI_EDUCACIONPADRE','FAMI_ESTRATOVIVIENDA','FAMI_PERSONASHOGAR','FAMI_TIENEAUTOMOVIL','FAMI_TIENECOMPUTADOR','FAMI_TIENEINTERNET','FAMI_TIENELAVADORA']"
   ]
  },
  {
   "cell_type": "code",
   "execution_count": 28,
   "metadata": {},
   "outputs": [
    {
     "name": "stderr",
     "output_type": "stream",
     "text": [
      "C:\\Users\\SEBASTIAN\\AppData\\Local\\Temp\\ipykernel_2940\\2313986433.py:2: FutureWarning: A value is trying to be set on a copy of a DataFrame or Series through chained assignment using an inplace method.\n",
      "The behavior will change in pandas 3.0. This inplace method will never work because the intermediate object on which we are setting values always behaves as a copy.\n",
      "\n",
      "For example, when doing 'df[col].method(value, inplace=True)', try using 'df.method({col: value}, inplace=True)' or df[col] = df[col].method(value) instead, to perform the operation inplace on the original object.\n",
      "\n",
      "\n",
      "  datos[columna].fillna(datos[columna].mode()[0], inplace=True)\n"
     ]
    }
   ],
   "source": [
    "for columna in columnas_a_imputar:\n",
    "    datos[columna].fillna(datos[columna].mode()[0], inplace=True)"
   ]
  },
  {
   "cell_type": "code",
   "execution_count": 29,
   "metadata": {},
   "outputs": [
    {
     "data": {
      "text/plain": [
       "(583602, 36)"
      ]
     },
     "execution_count": 29,
     "metadata": {},
     "output_type": "execute_result"
    }
   ],
   "source": [
    "datos.shape"
   ]
  },
  {
   "cell_type": "code",
   "execution_count": 30,
   "metadata": {},
   "outputs": [
    {
     "data": {
      "text/plain": [
       "COLE_AREA_UBICACION            0\n",
       "COLE_BILINGUE                  0\n",
       "COLE_CALENDARIO                0\n",
       "COLE_CARACTER                  0\n",
       "COLE_GENERO                    0\n",
       "COLE_JORNADA                   0\n",
       "COLE_MCPIO_UBICACION           0\n",
       "COLE_NATURALEZA                0\n",
       "COLE_NOMBRE_ESTABLECIMIENTO    0\n",
       "COLE_NOMBRE_SEDE               0\n",
       "COLE_SEDE_PRINCIPAL            0\n",
       "ESTU_DEPTO_PRESENTACION        0\n",
       "ESTU_DEPTO_RESIDE              0\n",
       "ESTU_ESTADOINVESTIGACION       0\n",
       "ESTU_FECHANACIMIENTO           0\n",
       "ESTU_GENERO                    0\n",
       "ESTU_MCPIO_PRESENTACION        0\n",
       "ESTU_MCPIO_RESIDE              0\n",
       "ESTU_NACIONALIDAD              0\n",
       "ESTU_PAIS_RESIDE               0\n",
       "ESTU_PRIVADO_LIBERTAD          0\n",
       "FAMI_CUARTOSHOGAR              0\n",
       "FAMI_EDUCACIONMADRE            0\n",
       "FAMI_EDUCACIONPADRE            0\n",
       "FAMI_ESTRATOVIVIENDA           0\n",
       "FAMI_PERSONASHOGAR             0\n",
       "FAMI_TIENEAUTOMOVIL            0\n",
       "FAMI_TIENECOMPUTADOR           0\n",
       "FAMI_TIENEINTERNET             0\n",
       "FAMI_TIENELAVADORA             0\n",
       "PUNT_INGLES                    0\n",
       "PUNT_MATEMATICAS               0\n",
       "PUNT_SOCIALES_CIUDADANAS       0\n",
       "PUNT_C_NATURALES               0\n",
       "PUNT_LECTURA_CRITICA           0\n",
       "PUNT_GLOBAL                    0\n",
       "dtype: int64"
      ]
     },
     "execution_count": 30,
     "metadata": {},
     "output_type": "execute_result"
    }
   ],
   "source": [
    "# Número de valores vacios\n",
    "datos.isna().sum()"
   ]
  },
  {
   "cell_type": "code",
   "execution_count": 31,
   "metadata": {},
   "outputs": [],
   "source": [
    "datos.to_csv('datos_limpios.csv')"
   ]
  }
 ],
 "metadata": {
  "kernelspec": {
   "display_name": "Python 3",
   "language": "python",
   "name": "python3"
  },
  "language_info": {
   "codemirror_mode": {
    "name": "ipython",
    "version": 3
   },
   "file_extension": ".py",
   "mimetype": "text/x-python",
   "name": "python",
   "nbconvert_exporter": "python",
   "pygments_lexer": "ipython3",
   "version": "3.11.0"
  }
 },
 "nbformat": 4,
 "nbformat_minor": 2
}
